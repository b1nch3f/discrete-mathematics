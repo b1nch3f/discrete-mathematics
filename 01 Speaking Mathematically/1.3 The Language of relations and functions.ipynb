{
 "cells": [
  {
   "cell_type": "markdown",
   "id": "97dc2bc7",
   "metadata": {},
   "source": [
    "### Relations\n",
    "\n",
    "Let $A$ and $B$ be sets. A relation $R$ from $A$ to $B$ is a subset of $A \\times B$. \n",
    "\n",
    "Given an ordered pair $(x, y) \\in A \\times B$, $x$ is related to $y$ by $R$, written $x R y$, if, and only if, $(x, y) \\in R$.\n",
    "\n",
    "The set $A$ is the $\\textbf{domain}$ of $R$ and the set $B$ is the $\\textbf{co-domain}$ of $R$."
   ]
  },
  {
   "cell_type": "markdown",
   "id": "7eb9d3a3",
   "metadata": {},
   "source": [
    "Let $C$ is a relation from $R$ to $R$. For all $(x, y) \\in R \\times R$, $(x, y) \\in C$ means that $X^2 + y^2 = 1$.\n",
    "\n",
    "- If $x = 0$, $y = 1$, then $X^2 + y^2 = 0^2 + 1^2 = 1$\n",
    "- If $x = 1$, $y = 1$, then $X^2 + y^2 = 1^2 + 1^2 \\neq 1$"
   ]
  },
  {
   "cell_type": "markdown",
   "id": "8f824047",
   "metadata": {},
   "source": [
    "### Functions\n",
    "\n",
    "A function is a Relation have the following properties:\n",
    "- For all $x \\in A$, there exists and element $y \\in B$, such that $(x, y) \\in F$\n",
    "- If $(x, y) \\in F$ and $(x, z) \\in F$, then $y = z$\n",
    "\n",
    "The unique element $y \\in B$ is denoted as $F(x)$, read as \"$F$ $\\textbf{of}$ $x$\""
   ]
  },
  {
   "cell_type": "markdown",
   "id": "aaa441ff",
   "metadata": {},
   "source": [
    "Let $C$ is a function from $R$ to $R$. For all $(x, y) \\in R \\times R$, $(x, y) \\in C$ means that $y^2 = 1 - x^2$ or $F(x) = 1 - x^2$.\n",
    "\n",
    "- If $x = 0$, then $y^2 = 1 - 0^2 = 1$\n",
    "- If $x = 1$, then $y^2 = 1 - 1^2 = 0$\n",
    "- If $x = -1$, then $y^2 = 1 - (-1)^2 = 1 - 1 = 0$"
   ]
  },
  {
   "cell_type": "markdown",
   "id": "bc484280",
   "metadata": {},
   "source": [
    "#### Equality of functions\n",
    "\n",
    "$f$ equals $g$, written $f = g$, if, and only if, $f(x) = g(x)$ for all $x \\in A$.\n",
    "\n",
    "For all $x \\in R$, $f(x) = |x|$  and $g(x) =  \\sqrt x^2$"
   ]
  }
 ],
 "metadata": {
  "kernelspec": {
   "display_name": "Python 3 (ipykernel)",
   "language": "python",
   "name": "python3"
  },
  "language_info": {
   "codemirror_mode": {
    "name": "ipython",
    "version": 3
   },
   "file_extension": ".py",
   "mimetype": "text/x-python",
   "name": "python",
   "nbconvert_exporter": "python",
   "pygments_lexer": "ipython3",
   "version": "3.7.9"
  }
 },
 "nbformat": 4,
 "nbformat_minor": 5
}
