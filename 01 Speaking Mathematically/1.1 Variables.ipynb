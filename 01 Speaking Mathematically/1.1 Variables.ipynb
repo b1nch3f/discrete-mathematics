{
 "cells": [
  {
   "cell_type": "markdown",
   "id": "7656030d",
   "metadata": {},
   "source": [
    "### A placeholder for element(s)"
   ]
  },
  {
   "cell_type": "markdown",
   "id": "ff00349f",
   "metadata": {},
   "source": [
    "- Is there a number with the following property: doubling it and adding $3$ gives the same result as squaring it?\n",
    "\n",
    "- Is there a number $x$ with the property that $2x + 3 = x^2$?"
   ]
  },
  {
   "cell_type": "markdown",
   "id": "5dd8acba",
   "metadata": {},
   "source": [
    "- No matter what number might be chosen, if it is greater than $2$, then its square is greater than $4$.\n",
    "\n",
    "- No matter what number $n$ might be chosen, if $n$ is greater than $2$, then $n^2$ is greater than $4$."
   ]
  },
  {
   "cell_type": "markdown",
   "id": "b26b3295",
   "metadata": {},
   "source": [
    "- Are there numbers with the property that the sum of their squares equals the square of their sum?\n",
    "\n",
    "- Are there numbers $a$, $b$ with the property that $a^2 + b^2 = (a+b)^2$?"
   ]
  },
  {
   "cell_type": "markdown",
   "id": "4bea3065",
   "metadata": {},
   "source": [
    "- Given any real number, its square is nonnegative.\n",
    "\n",
    "- Given any real number $r$, $r^2$ is nonnegative."
   ]
  },
  {
   "cell_type": "markdown",
   "id": "421b19ab",
   "metadata": {},
   "source": [
    "## Mathematical Statements"
   ]
  },
  {
   "cell_type": "markdown",
   "id": "a4198130",
   "metadata": {},
   "source": [
    "### Universal Statement - A certain property is true for all elements in a set\n",
    "\n",
    "- All positive numbers are greater than zero."
   ]
  },
  {
   "cell_type": "markdown",
   "id": "57b5ca6f",
   "metadata": {},
   "source": [
    "### Conditional Statement - If one thing is true then some other thing also has to be true\n",
    "\n",
    "- If 100 is divisible by 4, then 100 is divisible by 2."
   ]
  },
  {
   "cell_type": "markdown",
   "id": "5b005e32",
   "metadata": {},
   "source": [
    "### Existential Statement - There is at least one thing for which the property is true\n",
    "\n",
    "- There is a prime number that is even."
   ]
  },
  {
   "cell_type": "markdown",
   "id": "6cbbf970",
   "metadata": {},
   "source": [
    "## Universal Conditional Statements - Its both universal and conditional\n",
    "\n",
    "- For every animal a, if a is a dog, then a is a mammal.\n",
    "\n",
    "- For every real number $x$, if $x$ is nonzero then $x^2$ is positive.\n",
    "\n",
    "\n",
    "### conditional nature explicit but its universal nature implicit\n",
    "- If a is a dog, then a is a mammal.\n",
    "\n",
    "- If $x$ is a nonzero real number, then $x^2$ is positive.\n",
    "\n",
    "\n",
    "### universal nature explicit and its conditional nature implicit\n",
    "- For every dog a, a is a mammal.\n",
    "\n",
    "- For every nonzero real number $x$, $x^2$ is positive."
   ]
  },
  {
   "cell_type": "markdown",
   "id": "a1fdcd16",
   "metadata": {},
   "source": [
    "## Universal Existential Statements - Its first part says that a certain property is true for all objects of a given type, and its second part asserts the existence of something\n",
    "\n",
    "- Every real number has an additive inverse.\n",
    "\n",
    "- For every real number r, there is an additive inverse for r."
   ]
  },
  {
   "cell_type": "markdown",
   "id": "d0c7498f",
   "metadata": {},
   "source": [
    "## Existential Universal Statements - Its first part says that a certain object exists, and its second part says that the object satisfies a certain property for all things of a certain kind\n",
    "\n",
    "- There is a positive integer that is less than or equal to every positive integer.\n",
    "\n",
    "- There is a positive integer $m$ that is less than or equal to every positive integer."
   ]
  }
 ],
 "metadata": {
  "kernelspec": {
   "display_name": "Python 3 (ipykernel)",
   "language": "python",
   "name": "python3"
  },
  "language_info": {
   "codemirror_mode": {
    "name": "ipython",
    "version": 3
   },
   "file_extension": ".py",
   "mimetype": "text/x-python",
   "name": "python",
   "nbconvert_exporter": "python",
   "pygments_lexer": "ipython3",
   "version": "3.7.9"
  }
 },
 "nbformat": 4,
 "nbformat_minor": 5
}
